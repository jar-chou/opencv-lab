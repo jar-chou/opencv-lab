{
 "cells": [
  {
   "cell_type": "code",
   "execution_count": null,
   "metadata": {},
   "outputs": [],
   "source": [
    "# reshape a image to 256*256\n",
    "\n",
    "import cv2\n",
    "import numpy as np\n"
   ]
  },
  {
   "cell_type": "code",
   "execution_count": null,
   "metadata": {},
   "outputs": [],
   "source": [
    "# load image\n",
    "img = cv2.imread('lena.png')\n",
    "\n",
    "# get image shape and print it\n",
    "print(img.shape)\n",
    "\n",
    "# resize image\n",
    "res = cv2.resize(img, (256, 256))\n",
    "\n",
    "# show two images at the same time\n",
    "cv2.imshow('original', img)\n",
    "cv2.imshow('resized', res)\n",
    "# wait for any key to exit\n",
    "cv2.waitKey(0)\n",
    "cv2.destroyAllWindows() # destroy all the opened windows\n",
    "\n",
    "# save image\n",
    "cv2.imwrite('lena256.png', res)"
   ]
  },
  {
   "cell_type": "code",
   "execution_count": null,
   "metadata": {},
   "outputs": [],
   "source": [
    "# make the image upside down\n",
    "\n",
    "# load image\n",
    "img = cv2.imread('lena256.png')\n",
    "\n",
    "# get the number of rows and columns\n",
    "rows, cols = img.shape[:2]\n",
    "\n",
    "p1 = np.zeros((4, 2), dtype = \"float32\")\n",
    "p1[0] = [0, 0]\n",
    "p1[1] = [cols-1, 0]\n",
    "p1[2] = [0, rows-1]\n",
    "p1[3] = [cols-1, rows-1]\n",
    "\n",
    "p2 = np.zeros((4, 2), dtype = \"float32\")\n",
    "p2[0] = [0, rows-1]\n",
    "p2[1] = [cols-1, rows-1]\n",
    "p2[2] = [0, 0]\n",
    "p2[3] = [cols-1, 0]\n",
    "\n",
    "# compute the perspective transform matrix and then apply it\n",
    "M = cv2.getPerspectiveTransform(p1, p2)\n",
    "\n",
    "img = cv2.warpPerspective(img, M, (cols, rows))\n",
    "\n",
    "# show the image\n",
    "cv2.imshow('image', img)\n",
    "cv2.waitKey(0)\n",
    "cv2.destroyAllWindows()"
   ]
  },
  {
   "cell_type": "code",
   "execution_count": null,
   "metadata": {},
   "outputs": [],
   "source": [
    "# make the image left-right reversed\n",
    "\n",
    "# load image\n",
    "img = cv2.imread('lena256.png')\n",
    "\n",
    "# get the number of rows and columns\n",
    "rows, cols = img.shape[:2]\n",
    "\n",
    "p1 = np.zeros((4, 2), dtype = \"float32\")\n",
    "p1[0] = [0, 0]\n",
    "p1[1] = [cols-1, 0]\n",
    "p1[2] = [0, rows-1]\n",
    "p1[3] = [cols-1, rows-1]\n",
    "\n",
    "p2 = np.zeros((4, 2), dtype = \"float32\")\n",
    "p2[0] = [cols-1, 0]\n",
    "p2[1] = [0, 0]\n",
    "p2[2] = [cols-1, rows-1]\n",
    "p2[3] = [0, rows-1]\n",
    "\n",
    "# compute the perspective transform matrix and then apply it\n",
    "M = cv2.getPerspectiveTransform(p1, p2)\n",
    "img = cv2.warpPerspective(img, M, (cols, rows))\n",
    "\n",
    "# show the image\n",
    "cv2.imshow('image', img)\n",
    "cv2.waitKey(0)\n",
    "cv2.destroyAllWindows()"
   ]
  },
  {
   "cell_type": "code",
   "execution_count": null,
   "metadata": {},
   "outputs": [],
   "source": []
  }
 ],
 "metadata": {
  "kernelspec": {
   "display_name": "Python 3",
   "language": "python",
   "name": "python3"
  },
  "language_info": {
   "codemirror_mode": {
    "name": "ipython",
    "version": 3
   },
   "file_extension": ".py",
   "mimetype": "text/x-python",
   "name": "python",
   "nbconvert_exporter": "python",
   "pygments_lexer": "ipython3",
   "version": "3.11.5"
  }
 },
 "nbformat": 4,
 "nbformat_minor": 2
}
