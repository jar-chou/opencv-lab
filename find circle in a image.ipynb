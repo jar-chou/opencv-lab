{
 "cells": [
  {
   "cell_type": "code",
   "execution_count": null,
   "metadata": {},
   "outputs": [],
   "source": [
    "# this program is to find the circle of a image\n",
    "\n",
    "# import the necessary packages\n",
    "import cv2\n",
    "import numpy as np\n"
   ]
  },
  {
   "cell_type": "code",
   "execution_count": null,
   "metadata": {},
   "outputs": [],
   "source": [
    "# generate a circle image\n",
    "def generate_circle_image():\n",
    "    # generate a black image\n",
    "    image = np.zeros((500, 500, 3), np.uint8) + 255\n",
    "    # draw a circle\n",
    "    cv2.circle(image, (250, 250), 100, (0, 255, 0), 2)\n",
    "    # show the image\n",
    "    cv2.imshow(\"image\", image)\n",
    "    cv2.waitKey(0)\n",
    "    cv2.destroyAllWindows()\n",
    "    # return the image\n",
    "    return image\n",
    "\n",
    "img = generate_circle_image()\n",
    "\n",
    "# compute the time of image processing\n",
    "e1 = cv2.getTickCount()\n",
    "\n",
    "# find the circle\n",
    "# convert the image to gray\n",
    "gray = cv2.cvtColor(img, cv2.COLOR_BGR2GRAY)\n",
    "# blur the image\n",
    "blur = cv2.GaussianBlur(gray, (5, 5), 0)\n",
    "# find the circle\n",
    "circles = cv2.HoughCircles(blur, cv2.HOUGH_GRADIENT, 1, 20, param1=50, param2=30, minRadius=0, maxRadius=0)\n",
    "# draw the circle\n",
    "for i in circles[0, :]:\n",
    "    center = (int(i[0]), int(i[1]))\n",
    "    radius = int(i[2])\n",
    "    cv2.circle(img, center, radius, (0, 0, 255), 5)\n",
    "\n",
    "# compute the time of image processing\n",
    "e2 = cv2.getTickCount()\n",
    "time = (e2 - e1) / cv2.getTickFrequency()\n",
    "print(\"time: \", time)\n",
    "\n",
    "\n",
    "# show the image\n",
    "cv2.imshow(\"image\", img)\n",
    "cv2.waitKey(0)\n",
    "cv2.destroyAllWindows()\n"
   ]
  },
  {
   "cell_type": "code",
   "execution_count": null,
   "metadata": {},
   "outputs": [],
   "source": []
  }
 ],
 "metadata": {
  "kernelspec": {
   "display_name": "Python 3",
   "language": "python",
   "name": "python3"
  },
  "language_info": {
   "codemirror_mode": {
    "name": "ipython",
    "version": 3
   },
   "file_extension": ".py",
   "mimetype": "text/x-python",
   "name": "python",
   "nbconvert_exporter": "python",
   "pygments_lexer": "ipython3",
   "version": "3.11.5"
  }
 },
 "nbformat": 4,
 "nbformat_minor": 2
}
