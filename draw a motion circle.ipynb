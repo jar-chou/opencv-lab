{
 "cells": [
  {
   "cell_type": "code",
   "execution_count": 17,
   "metadata": {},
   "outputs": [],
   "source": [
    "# draw a motion circle by using opencv\n",
    "\n",
    "import cv2\n",
    "import numpy as np"
   ]
  },
  {
   "cell_type": "code",
   "execution_count": 18,
   "metadata": {},
   "outputs": [],
   "source": [
    "# create a white image\n",
    "img = np.zeros((512, 512, 3), np.uint8) + 255\n",
    "\n",
    "# set the initial position of the circle\n",
    "x, y = 512//2, 512//2     # the center of the image\n",
    "r = 32                  # the radius of the circle\n",
    "color = (0, 0, 255)     # the color of the circle\n",
    "thickness = -1          # the thickness of the circle"
   ]
  },
  {
   "cell_type": "code",
   "execution_count": 19,
   "metadata": {},
   "outputs": [],
   "source": [
    "# make the circle move randomly until the enter key is pressed\n",
    "\n",
    "while True:\n",
    "    #clear the last circle\n",
    "    img = np.zeros((512, 512, 3), np.uint8) + 255\n",
    "    # draw a circle\n",
    "    img = cv2.circle(img, (x, y), r, color, thickness)\n",
    "    \n",
    "    # show the image\n",
    "    cv2.imshow('img', img)\n",
    "    \n",
    "    # wait for 1ms\n",
    "    k = cv2.waitKey(50)\n",
    "    \n",
    "    # if the enter key is pressed, break the loop\n",
    "    if k == 13:\n",
    "        break\n",
    "        \n",
    "    # move the circle randomly\n",
    "    x += np.random.randint(-8, 8)\n",
    "    y += np.random.randint(-8, 8)\n",
    "\n",
    "\n",
    "# close all windows\n",
    "\n",
    "cv2.destroyAllWindows()"
   ]
  },
  {
   "cell_type": "code",
   "execution_count": null,
   "metadata": {},
   "outputs": [],
   "source": []
  }
 ],
 "metadata": {
  "kernelspec": {
   "display_name": "Python 3",
   "language": "python",
   "name": "python3"
  },
  "language_info": {
   "codemirror_mode": {
    "name": "ipython",
    "version": 3
   },
   "file_extension": ".py",
   "mimetype": "text/x-python",
   "name": "python",
   "nbconvert_exporter": "python",
   "pygments_lexer": "ipython3",
   "version": "3.11.5"
  }
 },
 "nbformat": 4,
 "nbformat_minor": 2
}
