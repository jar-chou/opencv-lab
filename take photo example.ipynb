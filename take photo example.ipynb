{
 "cells": [
  {
   "cell_type": "code",
   "execution_count": null,
   "metadata": {},
   "outputs": [],
   "source": [
    "#coding:utf-8\n",
    "import cv2\n",
    "cap = cv2.VideoCapture(0)\n",
    "flag = cap.isOpened()\n",
    "\n",
    "index = 1\n",
    "while(flag):\n",
    "    ret, frame = cap.read()\n",
    "    cv2.imshow(\"Capture_Paizhao\",frame)\n",
    "    k = cv2.waitKey(1) & 0xFF\n",
    "    if k == ord('s'):     #按下s键，进入下面的保存图片操作\n",
    "        cv2.imwrite(\"C:/Users/Administrator/Desktop/myFacePic/\" + str(index) + \".jpg\", frame)\n",
    "        print(cap.get(3))\n",
    "        print(cap.get(4))\n",
    "        print(\"save\" + str(index) + \".jpg successfuly!\")\n",
    "        print(\"-------------------------\")\n",
    "        index += 1\n",
    "    elif k == ord('q'):     #按下q键，程序退出\n",
    "        break\n",
    "cap.release()\n",
    "cv2.destroyAllWindows()"
   ]
  }
 ],
 "metadata": {
  "kernelspec": {
   "display_name": "Python 3",
   "language": "python",
   "name": "python3"
  },
  "language_info": {
   "name": "python",
   "version": "3.11.5"
  }
 },
 "nbformat": 4,
 "nbformat_minor": 2
}
