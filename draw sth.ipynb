{
 "cells": [
  {
   "cell_type": "code",
   "execution_count": 3,
   "metadata": {},
   "outputs": [],
   "source": [
    "# import cv2\n",
    "\n",
    "import cv2\n",
    "import numpy as np"
   ]
  },
  {
   "cell_type": "code",
   "execution_count": 6,
   "metadata": {},
   "outputs": [],
   "source": [
    "# create a black image\n",
    "img = np.ones((512, 512, 3), np.uint8)*255  # 255: white\n",
    "\n",
    "img = cv2.line(img, (0, 0), (511, 511), (255, 0, 0), 5)     # draw a diagonal blue line with thickness of 5 px\n",
    "\n",
    "img = cv2.rectangle(img, (384, 0), (510, 128), (0, 255, 0), 3)  # draw a green rectangle with thickness of 3 px\n",
    "\n",
    "img = cv2.circle(img, (447, 63), 63, (0, 0, 255), -1)  # draw a red circle with thickness of -1 px\n",
    "\n",
    "img = cv2.ellipse(img, (256, 256), (100, 50), 0, 0, 180, 255, -1)  # draw a half ellipse with thickness of -1 px  顺时针方向\n",
    "\n",
    "# show the image\n",
    "cv2.imshow('image', img)\n",
    "cv2.waitKey(0)   # wait for any key to be pressed\n",
    "cv2.destroyAllWindows()  # destroy all windows"
   ]
  },
  {
   "cell_type": "code",
   "execution_count": 7,
   "metadata": {},
   "outputs": [],
   "source": [
    "# draw a traffic light\n",
    "\n",
    "traffic_Light = np.zeros((100, 300, 3), np.uint8)   # 100: height, 300: width, 3: channels 0: black\n",
    "\n",
    "traffic_Light = cv2.circle(traffic_Light, (50, 50), 30, (0, 0, 255), -1)  # red\n",
    "traffic_Light = cv2.circle(traffic_Light, (150, 50), 30, (0, 255, 0), -1)  # green\n",
    "traffic_Light = cv2.circle(traffic_Light, (250, 50), 30, (0, 255, 255), -1)  # yellow\n",
    "\n",
    "# show the image\n",
    "cv2.imshow('traffic light', traffic_Light)\n",
    "cv2.waitKey(0)   # wait for any key to be pressed\n",
    "cv2.destroyAllWindows()  # destroy all windows\n"
   ]
  },
  {
   "cell_type": "code",
   "execution_count": 8,
   "metadata": {},
   "outputs": [],
   "source": [
    "# draw a concertric circles\n",
    "\n",
    "concertric_Circles = np.ones((300, 300, 3), np.uint8)*255   # 100: height, 300: width, 3: channels color: white\n",
    "\n",
    "concertric_Circles = cv2.circle(concertric_Circles, (150, 150), 0, (0, 255, 0), 5)\n",
    "concertric_Circles = cv2.circle(concertric_Circles, (150, 150), 30, (0, 255, 0), 5)\n",
    "concertric_Circles = cv2.circle(concertric_Circles, (150, 150), 60, (0, 255, 0), 5)\n",
    "concertric_Circles = cv2.circle(concertric_Circles, (150, 150), 90, (0, 255, 0), 5)\n",
    "concertric_Circles = cv2.circle(concertric_Circles, (150, 150), 120, (0, 255, 0), 5)\n",
    "\n",
    "# show the image\n",
    "cv2.imshow('concertric circles', concertric_Circles)\n",
    "cv2.waitKey(0)   # wait for any key to be pressed\n",
    "cv2.destroyAllWindows()  # destroy all windows"
   ]
  },
  {
   "cell_type": "code",
   "execution_count": 16,
   "metadata": {},
   "outputs": [],
   "source": [
    "# draw some text\n",
    "\n",
    "text = np.ones((300, 300, 3), np.uint8)*255   # 100: height, 300: width, 3: channels color: white\n",
    "\n",
    "font = cv2.FONT_HERSHEY_TRIPLEX + cv2.FONT_ITALIC  # font type\n",
    "cv2.putText(text, 'OpenCV', (10, 200), font, 2, (255, 0, 0), 5) # draw text\n",
    "\n",
    "# show the image\n",
    "cv2.imshow('text', text)\n",
    "cv2.waitKey(0)   # wait for any key to be pressed\n",
    "cv2.destroyAllWindows()  # destroy all windows"
   ]
  }
 ],
 "metadata": {
  "kernelspec": {
   "display_name": "Python 3",
   "language": "python",
   "name": "python3"
  },
  "language_info": {
   "codemirror_mode": {
    "name": "ipython",
    "version": 3
   },
   "file_extension": ".py",
   "mimetype": "text/x-python",
   "name": "python",
   "nbconvert_exporter": "python",
   "pygments_lexer": "ipython3",
   "version": "3.11.5"
  }
 },
 "nbformat": 4,
 "nbformat_minor": 2
}
