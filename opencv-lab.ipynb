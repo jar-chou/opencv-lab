{
 "cells": [
  {
   "cell_type": "code",
   "execution_count": null,
   "metadata": {},
   "outputs": [],
   "source": [
    "# import necessary libraries\n",
    "\n",
    "import  cv2\n",
    "import matplotlib.pyplot as plt\n"
   ]
  },
  {
   "cell_type": "code",
   "execution_count": null,
   "metadata": {},
   "outputs": [],
   "source": [
    "# read image\n",
    "\n",
    "lena = cv2.imread('lena.tif', -1)\n",
    "print(lena)\n",
    "\n",
    "#cv2.imshow('image', img)    # show image\n",
    "\n",
    "# show image using matplotlib\n",
    "plt.imshow(lena)"
   ]
  },
  {
   "cell_type": "code",
   "execution_count": null,
   "metadata": {},
   "outputs": [],
   "source": [
    "# show image using opencv\n",
    "cv2.imshow('lena', lena)\n",
    "cv2.waitKey(5000)  # wait for any key press         if any key pressed then close all windows,if the code is not here then the program will be failed to close all windows\n",
    "cv2.destroyAllWindows() # close all windows"
   ]
  },
  {
   "cell_type": "code",
   "execution_count": null,
   "metadata": {},
   "outputs": [],
   "source": [
    "# save image as png\n",
    "cv2.imwrite('lena.png', lena)"
   ]
  },
  {
   "cell_type": "code",
   "execution_count": null,
   "metadata": {},
   "outputs": [],
   "source": [
    "# get the details of image\n",
    "print(lena.shape) # shape of image\n",
    "print(lena.size) # size of image\n",
    "print(lena.dtype) # data type of image\n",
    "print(lena.ndim) # dimension of image\n"
   ]
  },
  {
   "cell_type": "code",
   "execution_count": null,
   "metadata": {},
   "outputs": [],
   "source": [
    "#get the specific pixel value of image\n",
    "\n",
    "px = lena[100, 100] # get pixel value of image\n",
    "print('px=', px)"
   ]
  },
  {
   "cell_type": "code",
   "execution_count": null,
   "metadata": {},
   "outputs": [],
   "source": [
    "# get the specific part of image\n",
    "\n",
    "a = lena[0:2:1, 0:2:1] # get pixel value of image\n",
    "print('a=', a)\n",
    "plt.imshow(a)\n",
    "\n",
    "# the pixel value when the copy variable is not changed\n",
    "print('lena[0:2:1, 0:2:1]=\\n', lena[0:2:1, 0:2:1])\n",
    "\n",
    "# change the pixel value of image\n",
    "#a[1, 0] = [0, 0, 0]\n",
    "plt.imshow(a)\n",
    "\n",
    "# the pixel value when the copy variable is changed\n",
    "print('lena[0:2:1, 0:2:1]=\\n', lena[0:2:1, 0:2:1])"
   ]
  },
  {
   "cell_type": "markdown",
   "metadata": {},
   "source": [
    "Create a black image using numpy arrarry"
   ]
  },
  {
   "cell_type": "code",
   "execution_count": null,
   "metadata": {},
   "outputs": [],
   "source": [
    "import numpy as np\n",
    "\n",
    "# create a black image\n",
    "img = np.zeros((512, 512, 3), np.uint8) # create a black image\n",
    "plt.imshow(img) # show image\n",
    "# show image using opencv\n",
    "cv2.imshow('image', img)\n",
    "cv2.waitKey(5000)  # wait for any key press         if any key pressed then close all windows,if the code is not here then the program will be failed to close all windows\n",
    "cv2.destroyAllWindows() # close all windows"
   ]
  },
  {
   "cell_type": "code",
   "execution_count": null,
   "metadata": {},
   "outputs": [],
   "source": [
    "lenaRGB = cv2.cvtColor(lena, cv2.COLOR_BGR2RGB) # convert BGR to RGB\n",
    "plt.imshow(lenaRGB) # show image\n",
    "# show image using opencv\n",
    "cv2.imshow('image', lenaRGB)\n",
    "cv2.waitKey(5000)  # wait for any key press         if any key pressed then close all windows,if the code is not here then the program will be failed to close all windows\n",
    "cv2.destroyAllWindows() # close all windows"
   ]
  },
  {
   "cell_type": "code",
   "execution_count": null,
   "metadata": {},
   "outputs": [],
   "source": [
    "# if the type of image is GRAY then we can't convert it to HSV,so first we have to convert it to BGR\n",
    "if lena.ndim == 2:\n",
    "    lenaBGR = cv2.cvtColor(lena, cv2.COLOR_GRAY2BGR) # convert GRAY to BGR\n",
    "    lenaHSV = cv2.cvtColor(lenaBGR, cv2.COLOR_BGR2HSV) # convert BGR to HSV\n",
    "lenaHSV = cv2.cvtColor(lena, cv2.COLOR_BGR2HSV) # convert BGR to HSV\n",
    "plt.imshow(lenaHSV) # show image\n",
    "# show image using opencv\n",
    "cv2.imshow('image', lenaHSV)\n",
    "cv2.waitKey(5000)  # wait for any key press         if any key pressed then close all windows,if the code is not here then the program will be failed to close all windows\n",
    "cv2.destroyAllWindows() # close all windows"
   ]
  },
  {
   "cell_type": "code",
   "execution_count": null,
   "metadata": {},
   "outputs": [],
   "source": [
    "# deep copy and shallow copy\n",
    "# deep copy\n",
    "lenaDeepCopy = lena[0:2, 0:2].copy() # deep copy\n",
    "lenaDeepCopy[1, 1] = [0, 0, 0] # change the pixel value of image\n",
    "print('lena[1, 1]=\\n', lena[1, 1]) # the pixel value when the copy variable is not changed\n",
    "print('lenaDeepCopy[1, 1]=\\n', lenaDeepCopy[1, 1]) # the pixel value when the copy variable is changed\n",
    "\n",
    "# shallow copy\n",
    "lenaShallowCopy = lena[0:2, 0:2] # shallow copy\n",
    "lenaShallowCopy[1, 1] = [0, 0, 0] # change the pixel value of image\n",
    "print('lena[1, 1]=\\n', lena[1, 1]) # the pixel value when the copy variable is not changed\n",
    "print('lenaShallowCopy[1, 1]=\\n', lenaShallowCopy[1, 1]) # the pixel value when the copy variable is changed"
   ]
  },
  {
   "cell_type": "code",
   "execution_count": null,
   "metadata": {},
   "outputs": [],
   "source": []
  }
 ],
 "metadata": {
  "kernelspec": {
   "display_name": "Python 3",
   "language": "python",
   "name": "python3"
  },
  "language_info": {
   "codemirror_mode": {
    "name": "ipython",
    "version": 3
   },
   "file_extension": ".py",
   "mimetype": "text/x-python",
   "name": "python",
   "nbconvert_exporter": "python",
   "pygments_lexer": "ipython3",
   "version": "3.11.5"
  }
 },
 "nbformat": 4,
 "nbformat_minor": 2
}
